{
 "cells": [
  {
   "cell_type": "code",
   "execution_count": 19,
   "metadata": {},
   "outputs": [],
   "source": [
    "import requests\n",
    "import pandas as pd\n",
    "import numpy as np\n",
    "import scipy as sp\n",
    "import plotly.figure_factory as ff\n",
    "import plotly.plotly as py\n",
    "from plotly.graph_objs import *\n",
    "import csv"
   ]
  },
  {
   "cell_type": "code",
   "execution_count": 7,
   "metadata": {},
   "outputs": [],
   "source": [
    "CSV_URL = f'https://s3-us-west-1.amazonaws.com/burn-cartel-content/soundcloud.csv'"
   ]
  },
  {
   "cell_type": "code",
   "execution_count": 8,
   "metadata": {},
   "outputs": [
    {
     "name": "stdout",
     "output_type": "stream",
     "text": [
      "['id', 'followers_count', 'followings_count', 'last_week_plays', 'today_plays', 'total_plays', 'track_count']\n",
      "['soundcloud_11/06/2017-00:17', '751', '552', '33684', '1335', '157', '49']\n",
      "['soundcloud_11/06/2017-00:38', '751', '552', '33686', '1337', '157', '49']\n",
      "['soundcloud_11/06/2017-00:52', '751', '552', '33686', '1337', '157', '49']\n"
     ]
    }
   ],
   "source": [
    "with requests.Session() as s:\n",
    "        # write to local csv stuffz\n",
    "        download = s.get(CSV_URL)\n",
    "        \n",
    "        decoded_content = download.content.decode('utf-8')\n",
    "\n",
    "        cr = csv.reader(decoded_content.splitlines(), delimiter=',')\n",
    "        my_list = list(cr)\n",
    "        for row in my_list:\n",
    "            print(row)"
   ]
  },
  {
   "cell_type": "code",
   "execution_count": 6,
   "metadata": {},
   "outputs": [
    {
     "name": "stdout",
     "output_type": "stream",
     "text": [
      "[['id', 'followers_count', 'followings_count', 'last_week_plays', 'today_plays', 'total_plays', 'track_count'], ['soundcloud_11/06/2017-00:17', '751', '552', '33684', '1335', '157', '49'], ['soundcloud_11/06/2017-00:38', '751', '552', '33686', '1337', '157', '49'], ['soundcloud_11/06/2017-00:52', '751', '552', '33686', '1337', '157', '49']]\n"
     ]
    }
   ],
   "source": [
    "print(my_list)"
   ]
  },
  {
   "cell_type": "code",
   "execution_count": 11,
   "metadata": {},
   "outputs": [],
   "source": [
    "df = pd.read_csv(CSV_URL)"
   ]
  },
  {
   "cell_type": "code",
   "execution_count": 13,
   "metadata": {},
   "outputs": [],
   "source": [
    "table = ff.create_table(df)"
   ]
  },
  {
   "cell_type": "code",
   "execution_count": null,
   "metadata": {},
   "outputs": [],
   "source": []
  },
  {
   "cell_type": "code",
   "execution_count": null,
   "metadata": {},
   "outputs": [],
   "source": []
  }
 ],
 "metadata": {
  "kernelspec": {
   "display_name": "Python 3",
   "language": "python",
   "name": "python3"
  },
  "language_info": {
   "codemirror_mode": {
    "name": "ipython",
    "version": 3
   },
   "file_extension": ".py",
   "mimetype": "text/x-python",
   "name": "python",
   "nbconvert_exporter": "python",
   "pygments_lexer": "ipython3",
   "version": "3.6.1"
  }
 },
 "nbformat": 4,
 "nbformat_minor": 2
}
